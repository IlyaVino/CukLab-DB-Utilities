{
 "cells": [
  {
   "cell_type": "code",
   "execution_count": 1,
   "id": "58876a3b",
   "metadata": {},
   "outputs": [],
   "source": [
    "# Initial setup for the scripts below\n",
    "import pyodbc\n",
    "import os\n",
    "\n",
    "gDrive = 'G:\\\\.shortcut-targets-by-id\\\\1O21NYESEEKxBx8k6l21vr3Feo26hcErZ'\n",
    "targetPath = 'CukResearchGroup'\n",
    "localPath = 'C:\\\\Users\\\\User'\n",
    "\n",
    "fullPath = os.path.join(gDrive,targetPath) # for gDrive paths\n",
    "#fullPath = localPath # for C:\\ drive paths\n",
    "\n",
    "# construct a connection object with DSN Raman Access.\n",
    "# to unlock the DB you will need to manually shutodwn the notebook\n",
    "conn = pyodbc.connect('DSN=Raman Access')"
   ]
  },
  {
   "cell_type": "code",
   "execution_count": 2,
   "id": "efd10110",
   "metadata": {},
   "outputs": [
    {
     "data": {
      "text/plain": [
       "32574"
      ]
     },
     "execution_count": 2,
     "metadata": {},
     "output_type": "execute_result"
    }
   ],
   "source": [
    "# recursive list of all files in targetPath folder\n",
    "allFileInfo = [[fi, fiP] for fiP,_,fiL in os.walk(fullPath) for fi in fiL]\n",
    "allFileNames = [fi[0] for fi in allFileInfo]\n",
    "allFilePaths = [fi[1] for fi in allFileInfo]\n",
    "len(allFileNames)"
   ]
  },
  {
   "cell_type": "code",
   "execution_count": 3,
   "id": "49d27ccc",
   "metadata": {},
   "outputs": [],
   "source": [
    "# Create a cursor to execute SQL INSERT\n",
    "crsr = conn.cursor()\n",
    "\n",
    "# Execute parameterized query\n",
    "crsr = crsr.execute(\"SELECT ID, FileName \"\n",
    "                    \"FROM TRAcquisition \"\n",
    "                    \"WHERE FilePath = '' \" \n",
    "                    \"ORDER BY [TimeStamp]\")\n",
    "\n",
    "# Get rows\n",
    "notFound = crsr.fetchall()"
   ]
  },
  {
   "cell_type": "code",
   "execution_count": 4,
   "id": "0525a8c4",
   "metadata": {},
   "outputs": [],
   "source": [
    "foundPath = []\n",
    "for fi in notFound:\n",
    "    try:\n",
    "        idx = allFileNames.index(fi.FileName)\n",
    "        foundPath.append(allFilePaths[idx])\n",
    "    except ValueError:\n",
    "        foundPath.append('')"
   ]
  },
  {
   "cell_type": "code",
   "execution_count": 5,
   "id": "a26cb468",
   "metadata": {},
   "outputs": [
    {
     "name": "stdout",
     "output_type": "stream",
     "text": [
      "5 22-06-16_12h15m24s_Sample_None_None.mat \n",
      "6 22-06-17_16h24m42s_Sample_None_None.mat \n",
      "7 22-06-17_16h26m22s_Sample_None_None.mat \n",
      "8 22-06-17_16h32m00s_Sample_None_None.mat \n",
      "9 22-06-17_16h33m07s_Sample_None_None.mat \n",
      "10 22-06-17_16h34m21s_Sample_None_None.mat \n",
      "11 22-06-17_16h36m24s_Sample_None_None.mat \n",
      "14 22-06-22_12h51m07s_Sample_U_pH_720mMNa.mat \n",
      "15 22-06-22_12h53m56s_Sample_U_pH_720mMNa.mat \n",
      "17 22-06-22_17h26m12s_Sample_U_pH_740mMNa.mat \n",
      "25 22-06-30_11h54m40s_Sample_V_pH_12100mMNa.mat \n",
      "30 22-07-22_14h29m51s_Froms_test_Sample_None.mat \n",
      "44 22-09-06_17h23m41s_pH_13_phosphate_W_pH_13_100_mM_phosphate.mat \n"
     ]
    }
   ],
   "source": [
    "# Display search results as ID, Filename, path if found\n",
    "for [row, fiP] in zip(notFound, foundPath):\n",
    "    print(row.ID, row.FileName, fiP)"
   ]
  },
  {
   "cell_type": "code",
   "execution_count": null,
   "id": "557da8f3",
   "metadata": {},
   "outputs": [],
   "source": []
  }
 ],
 "metadata": {
  "kernelspec": {
   "display_name": "Python 3 (ipykernel)",
   "language": "python",
   "name": "python3"
  },
  "language_info": {
   "codemirror_mode": {
    "name": "ipython",
    "version": 3
   },
   "file_extension": ".py",
   "mimetype": "text/x-python",
   "name": "python",
   "nbconvert_exporter": "python",
   "pygments_lexer": "ipython3",
   "version": "3.9.12"
  }
 },
 "nbformat": 4,
 "nbformat_minor": 5
}
