{
 "cells": [
  {
   "cell_type": "code",
   "execution_count": 1,
   "id": "2277d7f7",
   "metadata": {},
   "outputs": [],
   "source": [
    "import os # module for using OS tools to navigate directories\n",
    "import pyodbc # Module for ODBC for python to connect to database\n",
    "import datetime as dt # module for converting time stamps to/from strings\n",
    "\n",
    "gDrive = 'G:\\\\.shortcut-targets-by-id\\\\1O21NYESEEKxBx8k6l21vr3Feo26hcErZ'\n",
    "searchDir = 'CukResearchGroup\\\\FSRS\\\\Live Tweaking'\n",
    "tableName = 'FSRSLiveTweaking'\n",
    "\n",
    "fullPath = os.path.join(gDrive,searchDir) # for gDrive paths\n",
    "\n",
    "# construct a connection object with DSN Raman Access.\n",
    "# to unlock the DB you will need to manually shutodwn the notebook\n",
    "conn = pyodbc.connect('DSN=Raman Access')"
   ]
  },
  {
   "cell_type": "code",
   "execution_count": 2,
   "id": "20cf8b67",
   "metadata": {},
   "outputs": [
    {
     "data": {
      "text/plain": [
       "3"
      ]
     },
     "execution_count": 2,
     "metadata": {},
     "output_type": "execute_result"
    }
   ],
   "source": [
    "# recursive list of all files in targetPath folder\n",
    "allFileInfo = [[fi, fiP] for fiP,_,fiL in os.walk(fullPath) for fi in fiL if '.mat' in fi]\n",
    "allFileNames = [fi[0] for fi in allFileInfo]\n",
    "allFilePaths = [fi[1] for fi in allFileInfo]\n",
    "len(allFileNames)"
   ]
  },
  {
   "cell_type": "code",
   "execution_count": 3,
   "id": "b1da38c7",
   "metadata": {},
   "outputs": [
    {
     "name": "stdout",
     "output_type": "stream",
     "text": [
      "22-08-30_17h10m01s_WLC_noise_check_Unknown_Unkown.mat\n",
      "22-08-30_17h07m42s_WLC_frame-by-frame_test_Unknown_Unkown.mat\n",
      "22-07-25_16h28m25s_save_data_test_Unknown_Unkown.mat\n"
     ]
    }
   ],
   "source": [
    "for fi in allFileNames:\n",
    "    print(fi)"
   ]
  },
  {
   "cell_type": "code",
   "execution_count": 4,
   "id": "334b6e27",
   "metadata": {},
   "outputs": [],
   "source": [
    "# Create a cursor to execute SQL INSERT\n",
    "crsr = conn.cursor()\n",
    "\n",
    "# Execute parameterized query\n",
    "crsr = crsr.execute(\"SELECT ID, FileName \"\n",
    "                    \"FROM \" + tableName + \" \"\n",
    "                    \"ORDER BY [TimeStamp]\")\n",
    "\n",
    "# Get rows\n",
    "dbEntries = crsr.fetchall()"
   ]
  },
  {
   "cell_type": "code",
   "execution_count": 5,
   "id": "8dbad63c",
   "metadata": {},
   "outputs": [
    {
     "name": "stdout",
     "output_type": "stream",
     "text": [
      "1 22-07-25_16h28m25s_save_data_test_Unknown_Unkown.mat\n",
      "2 22-08-30_17h07m42s_WLC_frame-by-frame_test_Unknown_Unkown.mat\n",
      "3 22-08-30_17h10m01s_WLC_noise_check_Unknown_Unkown.mat\n"
     ]
    }
   ],
   "source": [
    "# Display search results as ID, Filename\n",
    "for row in dbEntries:\n",
    "    print(row.ID, row.FileName)"
   ]
  },
  {
   "cell_type": "code",
   "execution_count": 6,
   "id": "805d78e8",
   "metadata": {},
   "outputs": [],
   "source": [
    "# Check that the files are in the gDrive\n",
    "foundFiles = []\n",
    "for fi in dbEntries:\n",
    "    try:\n",
    "        idx = allFileNames.index(fi.FileName)\n",
    "        foundFiles.append(allFilePaths[idx])\n",
    "    except ValueError:\n",
    "        foundFiles.append('')"
   ]
  },
  {
   "cell_type": "code",
   "execution_count": 7,
   "id": "5d1083db",
   "metadata": {},
   "outputs": [
    {
     "name": "stdout",
     "output_type": "stream",
     "text": [
      "1 22-07-25_16h28m25s_save_data_test_Unknown_Unkown.mat G:\\.shortcut-targets-by-id\\1O21NYESEEKxBx8k6l21vr3Feo26hcErZ\\CukResearchGroup\\TR-VIS\\Live Tweaking\\22_07Jul\n",
      "2 22-08-30_17h07m42s_WLC_frame-by-frame_test_Unknown_Unkown.mat G:\\.shortcut-targets-by-id\\1O21NYESEEKxBx8k6l21vr3Feo26hcErZ\\CukResearchGroup\\TR-VIS\\Live Tweaking\\22_08Aug\n",
      "3 22-08-30_17h10m01s_WLC_noise_check_Unknown_Unkown.mat G:\\.shortcut-targets-by-id\\1O21NYESEEKxBx8k6l21vr3Feo26hcErZ\\CukResearchGroup\\TR-VIS\\Live Tweaking\\22_08Aug\n"
     ]
    }
   ],
   "source": [
    "# Display search results as ID, Filename, found path\n",
    "for [row, fPath] in zip(dbEntries, foundFiles):\n",
    "    print(row.ID, row.FileName, fPath)"
   ]
  },
  {
   "cell_type": "code",
   "execution_count": 8,
   "id": "ea17a6a6",
   "metadata": {},
   "outputs": [],
   "source": [
    "# filter file names to exclude those already in the database\n",
    "dbFiles = [fi.FileName for fi in dbEntries]\n",
    "\n",
    "nonDBFiles = [fi for fi in allFileNames if not fi in dbFiles]\n",
    "nonDBFilePaths = [fiP for [fi, fiP] in allFileInfo if not fi in dbFiles]"
   ]
  },
  {
   "cell_type": "code",
   "execution_count": 9,
   "id": "b4d5e7d7",
   "metadata": {},
   "outputs": [],
   "source": [
    "# Extract timestring from files into a list\n",
    "tsStrs = [fi[0:18] for fi in nonDBFiles]\n",
    "\n",
    "# Format timestring into a datetime object list\n",
    "tsDT = [dt.datetime.strptime(ts,'%y-%m-%d_%Hh%Mm%Ss') for ts in tsStrs]\n",
    "\n",
    "# Format the datetime object list into a SQL string\n",
    "tsStrs = [str(ts) for ts in tsDT]"
   ]
  },
  {
   "cell_type": "code",
   "execution_count": 10,
   "id": "9c159180",
   "metadata": {},
   "outputs": [],
   "source": [
    "# Extract intermediate description from filename\n",
    "descStr = [fi[18:-4].replace('_',' ').strip() for fi in nonDBFiles]"
   ]
  },
  {
   "cell_type": "code",
   "execution_count": 11,
   "id": "9f9891b9",
   "metadata": {},
   "outputs": [],
   "source": [
    "# Display parsed results\n",
    "for [fi, fiP, ts, ds] in zip(nonDBFiles, nonDBFilePaths, tsStrs, descStr):\n",
    "    print(fi, fiP[len(gDrive)+1:])"
   ]
  },
  {
   "cell_type": "code",
   "execution_count": 14,
   "id": "3affb93d",
   "metadata": {},
   "outputs": [],
   "source": [
    "# Set autocommit to false so that database is updated only if query executes without error\n",
    "conn.autocommit = False\n",
    "\n",
    "# try to execute query\n",
    "try:\n",
    "    # Combine different lists and loop over their elements\n",
    "    for [fi, fiP, ts, ds] in zip(nonDBFiles, nonDBFilePaths, tsStrs, descStr):\n",
    "        # Execute parameterized query\n",
    "        crsr = crsr.execute('INSERT INTO FSRSLiveTweaking '\n",
    "                            '(FilePath, FileName, Description, SoftwareVersionID, DatabaseVersionID, [TimeStamp])' \n",
    "                            'VALUES (?, ?, ?, ?, ?, ?);', fiP[len(gDrive)+1:], fi, ds, 4, 4, ts) #todo: double check this line and backup db before executing...\n",
    "except pyodbc.DatabaseError as err:\n",
    "    # Undo any damage and return the exception to the user\n",
    "    conn.rollback()\n",
    "    print(err)\n",
    "else:\n",
    "    # commit record updates to database\n",
    "    conn.commit()\n",
    "    \n",
    "conn.autocommit = True\n",
    "# Note: Close connection by shutting down notebook"
   ]
  },
  {
   "cell_type": "code",
   "execution_count": null,
   "id": "3ff90264",
   "metadata": {},
   "outputs": [],
   "source": []
  }
 ],
 "metadata": {
  "kernelspec": {
   "display_name": "Python 3 (ipykernel)",
   "language": "python",
   "name": "python3"
  },
  "language_info": {
   "codemirror_mode": {
    "name": "ipython",
    "version": 3
   },
   "file_extension": ".py",
   "mimetype": "text/x-python",
   "name": "python",
   "nbconvert_exporter": "python",
   "pygments_lexer": "ipython3",
   "version": "3.9.12"
  }
 },
 "nbformat": 4,
 "nbformat_minor": 5
}
