{
 "cells": [
  {
   "cell_type": "code",
   "execution_count": 5,
   "id": "4cb51b33",
   "metadata": {},
   "outputs": [],
   "source": [
    "#This notebook moves existing files into folders according to their date for easier human-readability\n",
    "import os\n",
    "import datetime as dt"
   ]
  },
  {
   "cell_type": "code",
   "execution_count": 32,
   "id": "b33d59b3",
   "metadata": {},
   "outputs": [],
   "source": [
    "filePath = 'C:\\\\Users\\\\Raman\\\\Documents\\\\Experimental Data\\\\FSRS\\\\Raman Data\\\\Live Tweaking' #for live tweaking data\n",
    "#filePath = 'C:\\\\Users\\\\Raman\\\\Documents\\\\Experimental Data\\\\FSRS\\\\Raman Data\\\\Raw Data' #for acquisition data\n",
    "\n",
    "# uses os.walk to recursively search dirs in filePath, excludes files in paths that contains case-insensitive 'bad' and files that contain extensions\n",
    "files = [fi for fi in os.listdir(filePath) if '.mat' in fi]\n",
    "\n",
    "# Extract timestring from files into a list\n",
    "tsStrs = [fi[0:18] for fi in files]\n",
    "\n",
    "# Format timestring into a datetime object list\n",
    "tsDT = [dt.datetime.strptime(ts,'%y-%m-%d_%Hh%Mm%Ss') for ts in tsStrs]"
   ]
  },
  {
   "cell_type": "code",
   "execution_count": 38,
   "id": "be885296",
   "metadata": {},
   "outputs": [],
   "source": [
    "# Generate a list of time stamped folder names\n",
    "#tsDir = [ts.strftime('%y_%m_%d%b') for ts in tsDT] # for acquisition data\n",
    "tsDir = [ts.strftime('%y_%m%b') for ts in tsDT] # for live tweaking data\n",
    "\n",
    "# Generate a unique list by converting to set and then back to list\n",
    "tsUDir = list(set(tsDir))"
   ]
  },
  {
   "cell_type": "code",
   "execution_count": 39,
   "id": "c9afb50d",
   "metadata": {},
   "outputs": [],
   "source": [
    "# loop over the unique list and create a new dir in the file system\n",
    "for newDir in tsUDir:\n",
    "    # use absolute path\n",
    "    fullDir = os.path.join(filePath,newDir)\n",
    "    \n",
    "    # check if the dir already doesn't exist\n",
    "    if not os.path.exists(fullDir):\n",
    "        # make a new dir if doesn't already exist\n",
    "        os.makedirs(fullDir)"
   ]
  },
  {
   "cell_type": "code",
   "execution_count": 40,
   "id": "df833cd6",
   "metadata": {},
   "outputs": [],
   "source": [
    "# Move each file into the corresponding new dir\n",
    "for (fileInfo, newRelDir) in zip(files, tsDir):\n",
    "    # Use path.join to create old and new absolute paths\n",
    "    oldAbsPath = os.path.join(filePath,fileInfo)\n",
    "    newAbsPath = os.path.join(filePath,newRelDir,fileInfo)\n",
    "    \n",
    "    # use os.rename to move the file from oldAbsPath to newAbsPath\n",
    "    os.rename(oldAbsPath,newAbsPath)"
   ]
  },
  {
   "cell_type": "code",
   "execution_count": null,
   "id": "8319781c",
   "metadata": {},
   "outputs": [],
   "source": []
  }
 ],
 "metadata": {
  "kernelspec": {
   "display_name": "Python 3 (ipykernel)",
   "language": "python",
   "name": "python3"
  },
  "language_info": {
   "codemirror_mode": {
    "name": "ipython",
    "version": 3
   },
   "file_extension": ".py",
   "mimetype": "text/x-python",
   "name": "python",
   "nbconvert_exporter": "python",
   "pygments_lexer": "ipython3",
   "version": "3.9.12"
  }
 },
 "nbformat": 4,
 "nbformat_minor": 5
}
